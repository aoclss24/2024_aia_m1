{
 "cells": [
  {
   "cell_type": "markdown",
   "metadata": {},
   "source": [
    "Uso de Random Forest para analizar datos de supervivencia y validación cruzada para la partición de los datos."
   ]
  },
  {
   "cell_type": "code",
   "execution_count": 1,
   "metadata": {},
   "outputs": [],
   "source": [
    "# Importar las librerías necesarias\n",
    "import pandas as pd\n",
    "import numpy as np\n",
    "from sklearn.model_selection import StratifiedKFold\n",
    "from sksurv.ensemble import RandomSurvivalForest\n",
    "from sksurv.metrics import concordance_index_censored, NoComparablePairException\n",
    "from sklearn.inspection import permutation_importance\n",
    "import matplotlib.pyplot as plt\n",
    "from lifelines import KaplanMeierFitter"
   ]
  },
  {
   "cell_type": "code",
   "execution_count": 2,
   "metadata": {},
   "outputs": [
    {
     "data": {
      "text/html": [
       "<div>\n",
       "<style scoped>\n",
       "    .dataframe tbody tr th:only-of-type {\n",
       "        vertical-align: middle;\n",
       "    }\n",
       "\n",
       "    .dataframe tbody tr th {\n",
       "        vertical-align: top;\n",
       "    }\n",
       "\n",
       "    .dataframe thead th {\n",
       "        text-align: right;\n",
       "    }\n",
       "</style>\n",
       "<table border=\"1\" class=\"dataframe\">\n",
       "  <thead>\n",
       "    <tr style=\"text-align: right;\">\n",
       "      <th></th>\n",
       "      <th>edad</th>\n",
       "      <th>tratamiento</th>\n",
       "      <th>tiempo</th>\n",
       "      <th>evento</th>\n",
       "    </tr>\n",
       "  </thead>\n",
       "  <tbody>\n",
       "    <tr>\n",
       "      <th>0</th>\n",
       "      <td>50</td>\n",
       "      <td>1</td>\n",
       "      <td>5</td>\n",
       "      <td>1</td>\n",
       "    </tr>\n",
       "    <tr>\n",
       "      <th>1</th>\n",
       "      <td>60</td>\n",
       "      <td>1</td>\n",
       "      <td>6</td>\n",
       "      <td>0</td>\n",
       "    </tr>\n",
       "    <tr>\n",
       "      <th>2</th>\n",
       "      <td>45</td>\n",
       "      <td>0</td>\n",
       "      <td>6</td>\n",
       "      <td>1</td>\n",
       "    </tr>\n",
       "    <tr>\n",
       "      <th>3</th>\n",
       "      <td>70</td>\n",
       "      <td>1</td>\n",
       "      <td>2</td>\n",
       "      <td>1</td>\n",
       "    </tr>\n",
       "    <tr>\n",
       "      <th>4</th>\n",
       "      <td>65</td>\n",
       "      <td>0</td>\n",
       "      <td>4</td>\n",
       "      <td>0</td>\n",
       "    </tr>\n",
       "  </tbody>\n",
       "</table>\n",
       "</div>"
      ],
      "text/plain": [
       "   edad  tratamiento  tiempo  evento\n",
       "0    50            1       5       1\n",
       "1    60            1       6       0\n",
       "2    45            0       6       1\n",
       "3    70            1       2       1\n",
       "4    65            0       4       0"
      ]
     },
     "execution_count": 2,
     "metadata": {},
     "output_type": "execute_result"
    }
   ],
   "source": [
    "# Crear un dataframe con datos ficticios\n",
    "data = {\n",
    "    'edad': [50, 60, 45, 70, 65, 55, 62, 59, 47, 52],  # Edad del paciente\n",
    "    'tratamiento': [1, 1, 0, 1, 0, 0, 1, 0, 1, 0],    # Tratamiento: 1 = sí, 0 = no\n",
    "    'tiempo': [5, 6, 6, 2, 4, 3, 6, 8, 4, 7],         # Tiempo de supervivencia en meses\n",
    "    'evento': [1, 0, 1, 1, 0, 1, 0, 1, 1, 0]          # 1 si el evento (muerte) ocurrió, 0 si está censurado\n",
    "}\n",
    "df = pd.DataFrame(data)\n",
    "df.head()  # Mostrar las primeras filas del DataFrame"
   ]
  },
  {
   "cell_type": "code",
   "execution_count": 3,
   "metadata": {},
   "outputs": [
    {
     "data": {
      "text/plain": [
       "array([( True, 5.), (False, 6.), ( True, 6.), ( True, 2.), (False, 4.)],\n",
       "      dtype=[('evento', '?'), ('tiempo', '<f8')])"
      ]
     },
     "execution_count": 3,
     "metadata": {},
     "output_type": "execute_result"
    }
   ],
   "source": [
    "# Crear una estructura numpy para análisis de supervivencia\n",
    "# (evento, tiempo)\n",
    "surv = np.array([(bool(e), t) for e, t in zip(df['evento'], df['tiempo'])],\n",
    "                dtype=[('evento', 'bool'), ('tiempo', 'float')])\n",
    "surv[:5]"
   ]
  },
  {
   "cell_type": "code",
   "execution_count": 4,
   "metadata": {},
   "outputs": [
    {
     "data": {
      "text/html": [
       "<div>\n",
       "<style scoped>\n",
       "    .dataframe tbody tr th:only-of-type {\n",
       "        vertical-align: middle;\n",
       "    }\n",
       "\n",
       "    .dataframe tbody tr th {\n",
       "        vertical-align: top;\n",
       "    }\n",
       "\n",
       "    .dataframe thead th {\n",
       "        text-align: right;\n",
       "    }\n",
       "</style>\n",
       "<table border=\"1\" class=\"dataframe\">\n",
       "  <thead>\n",
       "    <tr style=\"text-align: right;\">\n",
       "      <th></th>\n",
       "      <th>edad</th>\n",
       "      <th>tratamiento</th>\n",
       "    </tr>\n",
       "  </thead>\n",
       "  <tbody>\n",
       "    <tr>\n",
       "      <th>0</th>\n",
       "      <td>50</td>\n",
       "      <td>1</td>\n",
       "    </tr>\n",
       "    <tr>\n",
       "      <th>1</th>\n",
       "      <td>60</td>\n",
       "      <td>1</td>\n",
       "    </tr>\n",
       "    <tr>\n",
       "      <th>2</th>\n",
       "      <td>45</td>\n",
       "      <td>0</td>\n",
       "    </tr>\n",
       "    <tr>\n",
       "      <th>3</th>\n",
       "      <td>70</td>\n",
       "      <td>1</td>\n",
       "    </tr>\n",
       "    <tr>\n",
       "      <th>4</th>\n",
       "      <td>65</td>\n",
       "      <td>0</td>\n",
       "    </tr>\n",
       "  </tbody>\n",
       "</table>\n",
       "</div>"
      ],
      "text/plain": [
       "   edad  tratamiento\n",
       "0    50            1\n",
       "1    60            1\n",
       "2    45            0\n",
       "3    70            1\n",
       "4    65            0"
      ]
     },
     "execution_count": 4,
     "metadata": {},
     "output_type": "execute_result"
    }
   ],
   "source": [
    "# Definir las covariables\n",
    "X = df[['edad', 'tratamiento']]\n",
    "X.head()  # Mostrar las primeras filas de las covariables"
   ]
  },
  {
   "cell_type": "code",
   "execution_count": 5,
   "metadata": {},
   "outputs": [],
   "source": [
    "# Crear el modelo de Random Survival Forest\n",
    "rsf = RandomSurvivalForest(n_estimators=100, min_samples_split=10, min_samples_leaf=5, n_jobs=-1, random_state=42)"
   ]
  },
  {
   "cell_type": "code",
   "execution_count": 6,
   "metadata": {},
   "outputs": [],
   "source": [
    "# Crear la validación cruzada estratificada\n",
    "kf = StratifiedKFold(n_splits=4, shuffle=True, random_state=42)"
   ]
  },
  {
   "cell_type": "code",
   "execution_count": 7,
   "metadata": {},
   "outputs": [
    {
     "data": {
      "text/plain": [
       "0    2\n",
       "1    1\n",
       "2    2\n",
       "3    2\n",
       "4    1\n",
       "5    2\n",
       "6    1\n",
       "7    2\n",
       "8    2\n",
       "9    1\n",
       "Name: evento, dtype: int64"
      ]
     },
     "execution_count": 7,
     "metadata": {},
     "output_type": "execute_result"
    }
   ],
   "source": [
    "# Crear una variable que refleje el estatus de evento para usar en StratifiedKFold\n",
    "# Transformar los valores de evento para que sean 1 y 2 en lugar de 0 y 1\n",
    "status_evento = df['evento'] + 1  # 0 -> 1 (censurado), 1 -> 2 (evento)\n",
    "status_evento"
   ]
  },
  {
   "cell_type": "code",
   "execution_count": 8,
   "metadata": {},
   "outputs": [],
   "source": [
    "# Función para calcular el índice de concordancia en cada fold\n",
    "def concordance_index(model, X_train, y_train, X_test, y_test):\n",
    "    model.fit(X_train, y_train)\n",
    "    pred_surv = model.predict(X_test)\n",
    "    return concordance_index_censored(y_test['evento'], y_test['tiempo'], pred_surv)[0]"
   ]
  },
  {
   "cell_type": "code",
   "execution_count": 9,
   "metadata": {},
   "outputs": [],
   "source": [
    "# Calcular la puntuación de validación cruzada\n",
    "scores = []\n",
    "for train_index, test_index in kf.split(X, status_evento):\n",
    "    X_train, X_test = X.iloc[train_index], X.iloc[test_index]\n",
    "    y_train, y_test = surv[train_index], surv[test_index]\n",
    "    \n",
    "    # Asegurarse de que el conjunto de entrenamiento tiene eventos\n",
    "    if np.sum(y_train['evento']) > 0 and np.sum(y_test['evento']) > 0:\n",
    "        try:\n",
    "            score = concordance_index(rsf, X_train, y_train, X_test, y_test)\n",
    "            scores.append(score)\n",
    "        except NoComparablePairException:\n",
    "            scores.append(np.nan)\n",
    "    else:\n",
    "        scores.append(np.nan)"
   ]
  },
  {
   "cell_type": "code",
   "execution_count": 10,
   "metadata": {},
   "outputs": [
    {
     "name": "stdout",
     "output_type": "stream",
     "text": [
      "Índice de concordancia para cada fold: [0.5, 0.5, nan, 0.5]\n",
      "Índice de concordancia promedio: 0.5\n"
     ]
    }
   ],
   "source": [
    "# Mostrar los resultados\n",
    "print(f\"Índice de concordancia para cada fold: {scores}\")\n",
    "print(f\"Índice de concordancia promedio: {np.nanmean(scores)}\")"
   ]
  },
  {
   "cell_type": "code",
   "execution_count": 11,
   "metadata": {},
   "outputs": [
    {
     "name": "stdout",
     "output_type": "stream",
     "text": [
      "      Variable  Importancia media  Desviación estándar\n",
      "0         edad                0.0                  0.0\n",
      "1  tratamiento                0.0                  0.0\n"
     ]
    }
   ],
   "source": [
    "# Entrenar el modelo en el conjunto completo para analizar la importancia de las variables\n",
    "rsf.fit(X, surv)\n",
    "\n",
    "# Calcular la importancia de las variables usando permutation_importance\n",
    "result = permutation_importance(rsf, X, surv, n_repeats=10, random_state=42, n_jobs=-1)\n",
    "\n",
    "# Crear un DataFrame para mostrar las importancias\n",
    "importance_df = pd.DataFrame({\n",
    "    'Variable': X.columns,\n",
    "    'Importancia media': result.importances_mean,\n",
    "    'Desviación estándar': result.importances_std\n",
    "})\n",
    "\n",
    "# Mostrar la importancia de las variables\n",
    "print(importance_df)"
   ]
  },
  {
   "cell_type": "code",
   "execution_count": 12,
   "metadata": {},
   "outputs": [
    {
     "data": {
      "image/png": "[encoded data removed]",
      "text/plain": [
       "<Figure size 1000x600 with 1 Axes>"
      ]
     },
     "metadata": {},
     "output_type": "display_data"
    }
   ],
   "source": [
    "# Gráfico de la importancia de las variables\n",
    "plt.figure(figsize=(10, 6))\n",
    "plt.bar(importance_df['Variable'], importance_df['Importancia media'], yerr=importance_df['Desviación estándar'])\n",
    "plt.xlabel('Variables')\n",
    "plt.ylabel('Importancia Media')\n",
    "plt.title('Importancia de las Variables Usando Permutation Importance')\n",
    "plt.show()"
   ]
  },
  {
   "cell_type": "code",
   "execution_count": 13,
   "metadata": {},
   "outputs": [
    {
     "data": {
      "image/png": "[encoded data removed]",
      "text/plain": [
       "<Figure size 1000x600 with 1 Axes>"
      ]
     },
     "metadata": {},
     "output_type": "display_data"
    }
   ],
   "source": [
    "# Curvas de supervivencia predichas para diferentes subgrupos\n",
    "# Crear un DataFrame para las predicciones\n",
    "pred_surv = rsf.predict_survival_function(X)\n",
    "\n",
    "# Separar pacientes en tratados y no tratados\n",
    "tratados = df[df['tratamiento'] == 1]\n",
    "no_tratados = df[df['tratamiento'] == 0]\n",
    "\n",
    "# Crear el KaplanMeierFitter\n",
    "kmf = KaplanMeierFitter()\n",
    "\n",
    "# Graficar la curva de supervivencia para los pacientes tratados\n",
    "plt.figure(figsize=(10, 6))\n",
    "kmf.fit(tratados['tiempo'], event_observed=tratados['evento'], label='Tratados')\n",
    "ax = kmf.plot_survival_function()\n",
    "\n",
    "# Graficar la curva de supervivencia para los pacientes no tratados\n",
    "kmf.fit(no_tratados['tiempo'], event_observed=no_tratados['evento'], label='No Tratados')\n",
    "kmf.plot_survival_function(ax=ax)\n",
    "\n",
    "plt.xlabel('Tiempo (meses)')\n",
    "plt.ylabel('Probabilidad de supervivencia')\n",
    "plt.title('Curvas de supervivencia para pacientes Tratados y No Tratados')\n",
    "plt.legend()\n",
    "plt.show()"
   ]
  }
 ],
 "metadata": {
  "kernelspec": {
   "display_name": "venv",
   "language": "python",
   "name": "python3"
  },
  "language_info": {
   "codemirror_mode": {
    "name": "ipython",
    "version": 3
   },
   "file_extension": ".py",
   "mimetype": "text/x-python",
   "name": "python",
   "nbconvert_exporter": "python",
   "pygments_lexer": "ipython3",
   "version": "3.12.3"
  }
 },
 "nbformat": 4,
 "nbformat_minor": 2
}
