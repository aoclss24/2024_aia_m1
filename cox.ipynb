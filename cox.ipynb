{
 "cells": [
  {
   "cell_type": "markdown",
   "metadata": {},
   "source": [
    "Uso de Cox para analizar datos de supervivencia y explorar la relación entre la supervivencia y una o más variables explicativas."
   ]
  },
  {
   "cell_type": "code",
   "execution_count": 1,
   "metadata": {},
   "outputs": [],
   "source": [
    "# Importar las librerías necesarias\n",
    "import pandas as pd\n",
    "from lifelines import CoxPHFitter\n",
    "import matplotlib.pyplot as plt"
   ]
  },
  {
   "cell_type": "code",
   "execution_count": 2,
   "metadata": {},
   "outputs": [
    {
     "data": {
      "text/html": [
       "<div>\n",
       "<style scoped>\n",
       "    .dataframe tbody tr th:only-of-type {\n",
       "        vertical-align: middle;\n",
       "    }\n",
       "\n",
       "    .dataframe tbody tr th {\n",
       "        vertical-align: top;\n",
       "    }\n",
       "\n",
       "    .dataframe thead th {\n",
       "        text-align: right;\n",
       "    }\n",
       "</style>\n",
       "<table border=\"1\" class=\"dataframe\">\n",
       "  <thead>\n",
       "    <tr style=\"text-align: right;\">\n",
       "      <th></th>\n",
       "      <th>pid</th>\n",
       "      <th>edad</th>\n",
       "      <th>tratamiento</th>\n",
       "      <th>tiempo</th>\n",
       "      <th>evento</th>\n",
       "    </tr>\n",
       "  </thead>\n",
       "  <tbody>\n",
       "    <tr>\n",
       "      <th>0</th>\n",
       "      <td>1</td>\n",
       "      <td>50</td>\n",
       "      <td>1</td>\n",
       "      <td>5</td>\n",
       "      <td>1</td>\n",
       "    </tr>\n",
       "    <tr>\n",
       "      <th>1</th>\n",
       "      <td>2</td>\n",
       "      <td>60</td>\n",
       "      <td>1</td>\n",
       "      <td>6</td>\n",
       "      <td>0</td>\n",
       "    </tr>\n",
       "    <tr>\n",
       "      <th>2</th>\n",
       "      <td>3</td>\n",
       "      <td>45</td>\n",
       "      <td>0</td>\n",
       "      <td>6</td>\n",
       "      <td>1</td>\n",
       "    </tr>\n",
       "    <tr>\n",
       "      <th>3</th>\n",
       "      <td>4</td>\n",
       "      <td>70</td>\n",
       "      <td>1</td>\n",
       "      <td>2</td>\n",
       "      <td>1</td>\n",
       "    </tr>\n",
       "    <tr>\n",
       "      <th>4</th>\n",
       "      <td>5</td>\n",
       "      <td>65</td>\n",
       "      <td>0</td>\n",
       "      <td>4</td>\n",
       "      <td>0</td>\n",
       "    </tr>\n",
       "  </tbody>\n",
       "</table>\n",
       "</div>"
      ],
      "text/plain": [
       "   pid  edad  tratamiento  tiempo  evento\n",
       "0    1    50            1       5       1\n",
       "1    2    60            1       6       0\n",
       "2    3    45            0       6       1\n",
       "3    4    70            1       2       1\n",
       "4    5    65            0       4       0"
      ]
     },
     "execution_count": 2,
     "metadata": {},
     "output_type": "execute_result"
    }
   ],
   "source": [
    "# Crear un dataframe con datos ficticios\n",
    "data = {\n",
    "    'pid': [1, 2, 3, 4, 5, 6, 7, 8, 9, 10],\n",
    "    'edad': [50, 60, 45, 70, 65, 55, 62, 59, 47, 52],  # Edad del paciente\n",
    "    'tratamiento': [1, 1, 0, 1, 0, 0, 1, 0, 1, 0],      # Tratamiento: 1 = sí, 0 = no\n",
    "    'tiempo': [5, 6, 6, 2, 4, 3, 6, 8, 4, 7],           # Tiempo de supervivencia en meses\n",
    "    'evento': [1, 0, 1, 1, 0, 1, 0, 1, 1, 0]           # 1 si el evento (muerte) ocurrió, 0 si está censurado\n",
    "}\n",
    "df = pd.DataFrame(data)\n",
    "\n",
    "# Mostrar los primeros registros del dataframe\n",
    "df.head()"
   ]
  },
  {
   "cell_type": "code",
   "execution_count": 3,
   "metadata": {},
   "outputs": [
    {
     "data": {
      "text/html": [
       "<div>\n",
       "<style scoped>\n",
       "    .dataframe tbody tr th:only-of-type {\n",
       "        vertical-align: middle;\n",
       "    }\n",
       "\n",
       "    .dataframe tbody tr th {\n",
       "        vertical-align: top;\n",
       "    }\n",
       "\n",
       "    .dataframe thead th {\n",
       "        text-align: right;\n",
       "    }\n",
       "</style>\n",
       "<table border=\"1\" class=\"dataframe\">\n",
       "  <thead>\n",
       "    <tr style=\"text-align: right;\">\n",
       "      <th></th>\n",
       "      <th>coef</th>\n",
       "      <th>exp(coef)</th>\n",
       "      <th>se(coef)</th>\n",
       "      <th>p</th>\n",
       "    </tr>\n",
       "    <tr>\n",
       "      <th>covariate</th>\n",
       "      <th></th>\n",
       "      <th></th>\n",
       "      <th></th>\n",
       "      <th></th>\n",
       "    </tr>\n",
       "  </thead>\n",
       "  <tbody>\n",
       "    <tr>\n",
       "      <th>edad</th>\n",
       "      <td>-0.056714</td>\n",
       "      <td>0.944864</td>\n",
       "      <td>0.070490</td>\n",
       "      <td>0.421068</td>\n",
       "    </tr>\n",
       "    <tr>\n",
       "      <th>tratamiento</th>\n",
       "      <td>0.730815</td>\n",
       "      <td>2.076773</td>\n",
       "      <td>0.962321</td>\n",
       "      <td>0.447595</td>\n",
       "    </tr>\n",
       "  </tbody>\n",
       "</table>\n",
       "</div>"
      ],
      "text/plain": [
       "                 coef  exp(coef)  se(coef)         p\n",
       "covariate                                           \n",
       "edad        -0.056714   0.944864  0.070490  0.421068\n",
       "tratamiento  0.730815   2.076773  0.962321  0.447595"
      ]
     },
     "execution_count": 3,
     "metadata": {},
     "output_type": "execute_result"
    }
   ],
   "source": [
    "# Crear una instancia del modelo de Cox\n",
    "cph = CoxPHFitter()\n",
    "\n",
    "# Ajustar el modelo a los datos\n",
    "cph.fit(df, duration_col='tiempo', event_col='evento', formula=\"edad + tratamiento\")\n",
    "\n",
    "# Imprimir el resumen del modelo\n",
    "summary_df = cph.summary\n",
    "selected_columns = summary_df[['coef', 'exp(coef)', 'se(coef)', 'p']]\n",
    "\n",
    "# Mostrar el resumen filtrado\n",
    "selected_columns"
   ]
  },
  {
   "cell_type": "code",
   "execution_count": 4,
   "metadata": {},
   "outputs": [
    {
     "data": {
      "image/png": "[encoded data removed]",
      "text/plain": [
       "<Figure size 640x480 with 1 Axes>"
      ]
     },
     "metadata": {},
     "output_type": "display_data"
    }
   ],
   "source": [
    "# Graficar los coeficientes de regresión\n",
    "cph.plot()\n",
    "plt.title('Coeficientes del Modelo de Cox')\n",
    "plt.show()"
   ]
  }
 ],
 "metadata": {
  "kernelspec": {
   "display_name": "venv",
   "language": "python",
   "name": "python3"
  },
  "language_info": {
   "codemirror_mode": {
    "name": "ipython",
    "version": 3
   },
   "file_extension": ".py",
   "mimetype": "text/x-python",
   "name": "python",
   "nbconvert_exporter": "python",
   "pygments_lexer": "ipython3",
   "version": "3.12.3"
  }
 },
 "nbformat": 4,
 "nbformat_minor": 2
}
